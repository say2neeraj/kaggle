{
 "cells": [
  {
   "cell_type": "markdown",
   "id": "c3729dc0",
   "metadata": {
    "papermill": {
     "duration": 0.008814,
     "end_time": "2023-08-02T18:30:15.836654",
     "exception": false,
     "start_time": "2023-08-02T18:30:15.827840",
     "status": "completed"
    },
    "tags": []
   },
   "source": [
    "**This notebook is an exercise in the [Python](https://www.kaggle.com/learn/python) course.  You can reference the tutorial at [this link](https://www.kaggle.com/colinmorris/hello-python).**\n",
    "\n",
    "---\n"
   ]
  },
  {
   "cell_type": "markdown",
   "id": "d7521afc",
   "metadata": {
    "papermill": {
     "duration": 0.008128,
     "end_time": "2023-08-02T18:30:15.853393",
     "exception": false,
     "start_time": "2023-08-02T18:30:15.845265",
     "status": "completed"
    },
    "tags": []
   },
   "source": [
    "Welcome to your first set of Python coding problems.  If this is your first time using Kaggle Notebooks, welcome! \n",
    "\n",
    "Notebooks are composed of blocks (called \"cells\") of text and code. Each of these is editable, though you'll mainly be editing the code cells to answer some questions.\n",
    "\n",
    "To get started, try running the code cell below (by pressing the ► button, or clicking on the cell and pressing ctrl+enter on your keyboard)."
   ]
  },
  {
   "cell_type": "code",
   "execution_count": 1,
   "id": "0ae0f2a7",
   "metadata": {
    "execution": {
     "iopub.execute_input": "2023-08-02T18:30:15.872776Z",
     "iopub.status.busy": "2023-08-02T18:30:15.872351Z",
     "iopub.status.idle": "2023-08-02T18:30:15.886525Z",
     "shell.execute_reply": "2023-08-02T18:30:15.885134Z"
    },
    "papermill": {
     "duration": 0.026776,
     "end_time": "2023-08-02T18:30:15.889094",
     "exception": false,
     "start_time": "2023-08-02T18:30:15.862318",
     "status": "completed"
    },
    "tags": []
   },
   "outputs": [
    {
     "name": "stdout",
     "output_type": "stream",
     "text": [
      "You've successfully run some Python code\n",
      "Congratulations!\n",
      "Happyy learning\n"
     ]
    }
   ],
   "source": [
    "print(\"You've successfully run some Python code\")\n",
    "print(\"Congratulations!\")\n",
    "print(\"Happyy learning\")"
   ]
  },
  {
   "cell_type": "markdown",
   "id": "a8398ff7",
   "metadata": {
    "papermill": {
     "duration": 0.008243,
     "end_time": "2023-08-02T18:30:15.905915",
     "exception": false,
     "start_time": "2023-08-02T18:30:15.897672",
     "status": "completed"
    },
    "tags": []
   },
   "source": [
    "Try adding another line of code in the cell above and re-running it. \n",
    "\n",
    "Now let's get a little fancier:  Add a new code cell by clicking on an existing code cell, hitting the escape key, and then hitting the `a` or `b` key.  The `a` key will add a cell above the current cell, and `b` adds a cell below.\n",
    "\n",
    "Great! Now you know how to use Notebooks.\n",
    "\n",
    "Each hands-on exercise starts by setting up our feedback and code checking mechanism. Run the code cell below to do that. Then you'll be ready to move on to question 0."
   ]
  },
  {
   "cell_type": "code",
   "execution_count": 2,
   "id": "af18e92e",
   "metadata": {
    "_kg_hide-input": true,
    "_kg_hide-output": true,
    "execution": {
     "iopub.execute_input": "2023-08-02T18:30:15.924597Z",
     "iopub.status.busy": "2023-08-02T18:30:15.924169Z",
     "iopub.status.idle": "2023-08-02T18:30:15.966314Z",
     "shell.execute_reply": "2023-08-02T18:30:15.964950Z"
    },
    "papermill": {
     "duration": 0.054759,
     "end_time": "2023-08-02T18:30:15.969136",
     "exception": false,
     "start_time": "2023-08-02T18:30:15.914377",
     "status": "completed"
    },
    "tags": []
   },
   "outputs": [
    {
     "name": "stdout",
     "output_type": "stream",
     "text": [
      "Setup complete! You're ready to start question 0.\n"
     ]
    }
   ],
   "source": [
    "from learntools.core import binder; binder.bind(globals())\n",
    "from learntools.python.ex1 import *\n",
    "print(\"Setup complete! You're ready to start question 0.\")"
   ]
  },
  {
   "cell_type": "markdown",
   "id": "1f9b15c6",
   "metadata": {
    "papermill": {
     "duration": 0.008131,
     "end_time": "2023-08-02T18:30:15.985936",
     "exception": false,
     "start_time": "2023-08-02T18:30:15.977805",
     "status": "completed"
    },
    "tags": []
   },
   "source": [
    "# 0.\n",
    "\n",
    "*This is a silly question intended as an introduction to the format we use for hands-on exercises throughout all Kaggle courses.*\n",
    "\n",
    "**What is your favorite color? **\n",
    "\n",
    "To complete this question, create a variable called `color` in the cell below with an appropriate value. The function call `q0.check()` (which we've already provided in the cell below) will check your answer."
   ]
  },
  {
   "cell_type": "code",
   "execution_count": 3,
   "id": "961a6180",
   "metadata": {
    "execution": {
     "iopub.execute_input": "2023-08-02T18:30:16.005097Z",
     "iopub.status.busy": "2023-08-02T18:30:16.004236Z",
     "iopub.status.idle": "2023-08-02T18:30:16.014020Z",
     "shell.execute_reply": "2023-08-02T18:30:16.012930Z"
    },
    "papermill": {
     "duration": 0.021858,
     "end_time": "2023-08-02T18:30:16.016279",
     "exception": false,
     "start_time": "2023-08-02T18:30:15.994421",
     "status": "completed"
    },
    "tags": []
   },
   "outputs": [
    {
     "data": {
      "application/javascript": [
       "parent.postMessage({\"jupyterEvent\": \"custom.exercise_interaction\", \"data\": {\"outcomeType\": 1, \"valueTowardsCompletion\": 0.25, \"interactionType\": 1, \"questionType\": 2, \"questionId\": \"0_ExerciseFormatTutorial\", \"learnToolsVersion\": \"0.3.4\", \"failureMessage\": \"\", \"exceptionClass\": \"\", \"trace\": \"\"}}, \"*\")"
      ],
      "text/plain": [
       "<IPython.core.display.Javascript object>"
      ]
     },
     "metadata": {},
     "output_type": "display_data"
    },
    {
     "data": {
      "text/markdown": [
       "<span style=\"color:#33cc33\">Correct:</span> What?! You got it right without needing a hint or anything? Drats. Well hey, you should still continue to the next step to get some practice asking for a hint and checking solutions. (Even though you obviously don't need any help here.)"
      ],
      "text/plain": [
       "Correct: What?! You got it right without needing a hint or anything? Drats. Well hey, you should still continue to the next step to get some practice asking for a hint and checking solutions. (Even though you obviously don't need any help here.)"
      ]
     },
     "metadata": {},
     "output_type": "display_data"
    }
   ],
   "source": [
    "# create a variable called color with an appropriate value on the line below\n",
    "# (Remember, strings in Python must be enclosed in 'single' or \"double\" quotes)\n",
    "____\n",
    "color=\"Blue\"\n",
    "\n",
    "# Check your answer\n",
    "q0.check()"
   ]
  },
  {
   "cell_type": "markdown",
   "id": "97b7944f",
   "metadata": {
    "papermill": {
     "duration": 0.008521,
     "end_time": "2023-08-02T18:30:16.034925",
     "exception": false,
     "start_time": "2023-08-02T18:30:16.026404",
     "status": "completed"
    },
    "tags": []
   },
   "source": [
    "Didn't get the right answer? How do you not even know your own favorite color?!\n",
    "\n",
    "Delete the `#` in the line below to make one of the lines run. You can choose between getting a hint or the full answer by choosing which line to remove the `#` from. \n",
    "\n",
    "Removing the `#` is called uncommenting, because it changes that line from a \"comment\" which Python doesn't run to code, which Python does run."
   ]
  },
  {
   "cell_type": "code",
   "execution_count": 4,
   "id": "89aa0cb0",
   "metadata": {
    "execution": {
     "iopub.execute_input": "2023-08-02T18:30:16.054477Z",
     "iopub.status.busy": "2023-08-02T18:30:16.054033Z",
     "iopub.status.idle": "2023-08-02T18:30:16.058741Z",
     "shell.execute_reply": "2023-08-02T18:30:16.057538Z"
    },
    "papermill": {
     "duration": 0.017391,
     "end_time": "2023-08-02T18:30:16.061198",
     "exception": false,
     "start_time": "2023-08-02T18:30:16.043807",
     "status": "completed"
    },
    "tags": []
   },
   "outputs": [],
   "source": [
    "#q0.hint()\n",
    "#q0.solution()"
   ]
  },
  {
   "cell_type": "markdown",
   "id": "b01c0564",
   "metadata": {
    "papermill": {
     "duration": 0.00856,
     "end_time": "2023-08-02T18:30:16.078669",
     "exception": false,
     "start_time": "2023-08-02T18:30:16.070109",
     "status": "completed"
    },
    "tags": []
   },
   "source": [
    "The upcoming questions work the same way. The only thing that will change are the question numbers. For the next question, you'll call `q1.check()`, `q1.hint()`, `q1.solution()`, for question 2, you'll call `q2.check()`, and so on."
   ]
  },
  {
   "cell_type": "markdown",
   "id": "03a72702",
   "metadata": {
    "papermill": {
     "duration": 0.0086,
     "end_time": "2023-08-02T18:30:16.096194",
     "exception": false,
     "start_time": "2023-08-02T18:30:16.087594",
     "status": "completed"
    },
    "tags": []
   },
   "source": [
    "<hr/>\n",
    "\n",
    "# 1.\n",
    "\n",
    "Complete the code below. In case it's helpful, here is the table of available arithmetic operations:\n",
    "\n",
    "\n",
    "\n",
    "| Operator     | Name           | Description                                            |\n",
    "|--------------|----------------|--------------------------------------------------------|\n",
    "| ``a + b``    | Addition       | Sum of ``a`` and ``b``                                 |\n",
    "| ``a - b``    | Subtraction    | Difference of ``a`` and ``b``                          |\n",
    "| ``a * b``    | Multiplication | Product of ``a`` and ``b``                             |\n",
    "| ``a / b``    | True division  | Quotient of ``a`` and ``b``                            |\n",
    "| ``a // b``   | Floor division | Quotient of ``a`` and ``b``, removing fractional parts |\n",
    "| ``a % b``    | Modulus        | Integer remainder after division of ``a`` by ``b``     |\n",
    "| ``a ** b``   | Exponentiation | ``a`` raised to the power of ``b``                     |\n",
    "| ``-a``       | Negation       | The negative of ``a``                                  |\n",
    "\n",
    "<span style=\"display:none\"></span>\n"
   ]
  },
  {
   "cell_type": "code",
   "execution_count": 5,
   "id": "106cc0b6",
   "metadata": {
    "execution": {
     "iopub.execute_input": "2023-08-02T18:30:16.116540Z",
     "iopub.status.busy": "2023-08-02T18:30:16.115963Z",
     "iopub.status.idle": "2023-08-02T18:30:16.126501Z",
     "shell.execute_reply": "2023-08-02T18:30:16.124866Z"
    },
    "papermill": {
     "duration": 0.02605,
     "end_time": "2023-08-02T18:30:16.131537",
     "exception": false,
     "start_time": "2023-08-02T18:30:16.105487",
     "status": "completed"
    },
    "tags": []
   },
   "outputs": [
    {
     "data": {
      "application/javascript": [
       "parent.postMessage({\"jupyterEvent\": \"custom.exercise_interaction\", \"data\": {\"outcomeType\": 1, \"valueTowardsCompletion\": 0.25, \"interactionType\": 1, \"questionType\": 1, \"questionId\": \"1_CircleArea\", \"learnToolsVersion\": \"0.3.4\", \"failureMessage\": \"\", \"exceptionClass\": \"\", \"trace\": \"\"}}, \"*\")"
      ],
      "text/plain": [
       "<IPython.core.display.Javascript object>"
      ]
     },
     "metadata": {},
     "output_type": "display_data"
    },
    {
     "data": {
      "text/markdown": [
       "<span style=\"color:#33cc33\">Correct</span>"
      ],
      "text/plain": [
       "Correct"
      ]
     },
     "metadata": {},
     "output_type": "display_data"
    }
   ],
   "source": [
    "pi = 3.14159 # approximate\n",
    "diameter = 3\n",
    "\n",
    "# Create a variable called 'radius' equal to half the diameter\n",
    "____\n",
    "radius=diameter/2\n",
    "\n",
    "# Create a variable called 'area', using the formula for the area of a circle: pi times the radius squared\n",
    "____\n",
    "area=pi*radius**2\n",
    "\n",
    "# Check your answer\n",
    "q1.check()"
   ]
  },
  {
   "cell_type": "code",
   "execution_count": 6,
   "id": "8d909f9c",
   "metadata": {
    "execution": {
     "iopub.execute_input": "2023-08-02T18:30:16.152161Z",
     "iopub.status.busy": "2023-08-02T18:30:16.151721Z",
     "iopub.status.idle": "2023-08-02T18:30:16.156434Z",
     "shell.execute_reply": "2023-08-02T18:30:16.155247Z"
    },
    "papermill": {
     "duration": 0.017671,
     "end_time": "2023-08-02T18:30:16.158824",
     "exception": false,
     "start_time": "2023-08-02T18:30:16.141153",
     "status": "completed"
    },
    "tags": []
   },
   "outputs": [],
   "source": [
    "# Uncomment and run the lines below if you need help.\n",
    "#q1.hint()\n",
    "#q1.solution()"
   ]
  },
  {
   "cell_type": "markdown",
   "id": "7fe4b8d6",
   "metadata": {
    "papermill": {
     "duration": 0.009068,
     "end_time": "2023-08-02T18:30:16.177452",
     "exception": false,
     "start_time": "2023-08-02T18:30:16.168384",
     "status": "completed"
    },
    "tags": []
   },
   "source": [
    "<hr/>\n",
    "\n",
    "# 2.\n",
    "\n",
    "Add code to the following cell to swap variables `a` and `b` (so that `a` refers to the object previously referred to by `b` and vice versa)."
   ]
  },
  {
   "cell_type": "code",
   "execution_count": 7,
   "id": "2e5bad8b",
   "metadata": {
    "execution": {
     "iopub.execute_input": "2023-08-02T18:30:16.198295Z",
     "iopub.status.busy": "2023-08-02T18:30:16.197864Z",
     "iopub.status.idle": "2023-08-02T18:30:16.208782Z",
     "shell.execute_reply": "2023-08-02T18:30:16.207545Z"
    },
    "papermill": {
     "duration": 0.024263,
     "end_time": "2023-08-02T18:30:16.211231",
     "exception": false,
     "start_time": "2023-08-02T18:30:16.186968",
     "status": "completed"
    },
    "tags": []
   },
   "outputs": [
    {
     "data": {
      "application/javascript": [
       "parent.postMessage({\"jupyterEvent\": \"custom.exercise_interaction\", \"data\": {\"outcomeType\": 1, \"valueTowardsCompletion\": 0.25, \"interactionType\": 1, \"questionType\": 2, \"questionId\": \"2_VariableSwap\", \"learnToolsVersion\": \"0.3.4\", \"failureMessage\": \"\", \"exceptionClass\": \"\", \"trace\": \"\"}}, \"*\")"
      ],
      "text/plain": [
       "<IPython.core.display.Javascript object>"
      ]
     },
     "metadata": {},
     "output_type": "display_data"
    },
    {
     "data": {
      "text/markdown": [
       "<span style=\"color:#33cc33\">Correct:</span> \n",
       "\n",
       "The most straightforward solution is to use a third variable to temporarily store one of the old values. e.g.:\n",
       "\n",
       "    tmp = a\n",
       "    a = b\n",
       "    b = tmp\n",
       "\n",
       "If you've read lots of Python code, you might have seen the following trick to swap two variables in one line:\n",
       "\n",
       "    a, b = b, a\n",
       "\n",
       "We'll demystify this bit of Python magic later when we talk about *tuples*."
      ],
      "text/plain": [
       "Correct: \n",
       "\n",
       "The most straightforward solution is to use a third variable to temporarily store one of the old values. e.g.:\n",
       "\n",
       "    tmp = a\n",
       "    a = b\n",
       "    b = tmp\n",
       "\n",
       "If you've read lots of Python code, you might have seen the following trick to swap two variables in one line:\n",
       "\n",
       "    a, b = b, a\n",
       "\n",
       "We'll demystify this bit of Python magic later when we talk about *tuples*."
      ]
     },
     "metadata": {},
     "output_type": "display_data"
    }
   ],
   "source": [
    "########### Setup code - don't touch this part ######################\n",
    "# If you're curious, these are examples of lists. We'll talk about \n",
    "# them in depth a few lessons from now. For now, just know that they're\n",
    "# yet another type of Python object, like int or float.\n",
    "a = [1, 2, 3]\n",
    "b = [3, 2, 1]\n",
    "q2.store_original_ids()\n",
    "######################################################################\n",
    "\n",
    "# Your code goes here. Swap the values to which a and b refer.\n",
    "# If you get stuck, you can always uncomment one or both of the lines in\n",
    "# the next cell for a hint, or to peek at the solution.\n",
    "\n",
    "#Option 1\n",
    "temp=[]\n",
    "temp=a\n",
    "a=b\n",
    "b=temp\n",
    "\n",
    "#Option 2 via tuples\n",
    "#a, b = b, a\n",
    "\n",
    "######################################################################\n",
    "\n",
    "# Check your answer\n",
    "q2.check()"
   ]
  },
  {
   "cell_type": "code",
   "execution_count": 8,
   "id": "30e3215a",
   "metadata": {
    "execution": {
     "iopub.execute_input": "2023-08-02T18:30:16.232876Z",
     "iopub.status.busy": "2023-08-02T18:30:16.232063Z",
     "iopub.status.idle": "2023-08-02T18:30:16.236969Z",
     "shell.execute_reply": "2023-08-02T18:30:16.236120Z"
    },
    "papermill": {
     "duration": 0.018629,
     "end_time": "2023-08-02T18:30:16.239411",
     "exception": false,
     "start_time": "2023-08-02T18:30:16.220782",
     "status": "completed"
    },
    "tags": []
   },
   "outputs": [],
   "source": [
    "#q2.hint()"
   ]
  },
  {
   "cell_type": "code",
   "execution_count": 9,
   "id": "f3a1b743",
   "metadata": {
    "execution": {
     "iopub.execute_input": "2023-08-02T18:30:16.261129Z",
     "iopub.status.busy": "2023-08-02T18:30:16.260688Z",
     "iopub.status.idle": "2023-08-02T18:30:16.265585Z",
     "shell.execute_reply": "2023-08-02T18:30:16.264350Z"
    },
    "papermill": {
     "duration": 0.018614,
     "end_time": "2023-08-02T18:30:16.268001",
     "exception": false,
     "start_time": "2023-08-02T18:30:16.249387",
     "status": "completed"
    },
    "tags": []
   },
   "outputs": [],
   "source": [
    "#q2.solution()"
   ]
  },
  {
   "cell_type": "markdown",
   "id": "da640c73",
   "metadata": {
    "papermill": {
     "duration": 0.009504,
     "end_time": "2023-08-02T18:30:16.287569",
     "exception": false,
     "start_time": "2023-08-02T18:30:16.278065",
     "status": "completed"
    },
    "tags": []
   },
   "source": [
    "<hr/>\n",
    "\n",
    "# 3a.\n",
    "\n",
    "Add parentheses to the following expression so that it evaluates to 1."
   ]
  },
  {
   "cell_type": "code",
   "execution_count": 10,
   "id": "bf6c359b",
   "metadata": {
    "execution": {
     "iopub.execute_input": "2023-08-02T18:30:16.309864Z",
     "iopub.status.busy": "2023-08-02T18:30:16.309088Z",
     "iopub.status.idle": "2023-08-02T18:30:16.316493Z",
     "shell.execute_reply": "2023-08-02T18:30:16.315173Z"
    },
    "papermill": {
     "duration": 0.021327,
     "end_time": "2023-08-02T18:30:16.318889",
     "exception": false,
     "start_time": "2023-08-02T18:30:16.297562",
     "status": "completed"
    },
    "tags": []
   },
   "outputs": [
    {
     "data": {
      "text/plain": [
       "1"
      ]
     },
     "execution_count": 10,
     "metadata": {},
     "output_type": "execute_result"
    }
   ],
   "source": [
    "#PEMDAS\n",
    "(5 - 3) // 2\n"
   ]
  },
  {
   "cell_type": "code",
   "execution_count": 11,
   "id": "b80c1d86",
   "metadata": {
    "execution": {
     "iopub.execute_input": "2023-08-02T18:30:16.342706Z",
     "iopub.status.busy": "2023-08-02T18:30:16.341811Z",
     "iopub.status.idle": "2023-08-02T18:30:16.346854Z",
     "shell.execute_reply": "2023-08-02T18:30:16.346002Z"
    },
    "papermill": {
     "duration": 0.019843,
     "end_time": "2023-08-02T18:30:16.349206",
     "exception": false,
     "start_time": "2023-08-02T18:30:16.329363",
     "status": "completed"
    },
    "tags": []
   },
   "outputs": [],
   "source": [
    "#q3.a.hint()"
   ]
  },
  {
   "cell_type": "code",
   "execution_count": 12,
   "id": "f1b73531",
   "metadata": {
    "execution": {
     "iopub.execute_input": "2023-08-02T18:30:16.372915Z",
     "iopub.status.busy": "2023-08-02T18:30:16.371986Z",
     "iopub.status.idle": "2023-08-02T18:30:16.381977Z",
     "shell.execute_reply": "2023-08-02T18:30:16.380794Z"
    },
    "papermill": {
     "duration": 0.024653,
     "end_time": "2023-08-02T18:30:16.384312",
     "exception": false,
     "start_time": "2023-08-02T18:30:16.359659",
     "status": "completed"
    },
    "tags": []
   },
   "outputs": [
    {
     "data": {
      "application/javascript": [
       "parent.postMessage({\"jupyterEvent\": \"custom.exercise_interaction\", \"data\": {\"interactionType\": 3, \"questionType\": 4, \"questionId\": \"3.1_ArithmeticParensEasy\", \"learnToolsVersion\": \"0.3.4\", \"valueTowardsCompletion\": 0.0, \"failureMessage\": \"\", \"exceptionClass\": \"\", \"trace\": \"\", \"outcomeType\": 4}}, \"*\")"
      ],
      "text/plain": [
       "<IPython.core.display.Javascript object>"
      ]
     },
     "metadata": {},
     "output_type": "display_data"
    },
    {
     "data": {
      "text/markdown": [
       "<span style=\"color:#33cc99\">Solution:</span> \n",
       "```python\n",
       "(5 - 3) // 2\n",
       "```"
      ],
      "text/plain": [
       "Solution: \n",
       "```python\n",
       "(5 - 3) // 2\n",
       "```"
      ]
     },
     "metadata": {},
     "output_type": "display_data"
    }
   ],
   "source": [
    "# Check your answer (Run this code cell to receive credit!)\n",
    "q3.a.solution()"
   ]
  },
  {
   "cell_type": "markdown",
   "id": "68986d21",
   "metadata": {
    "papermill": {
     "duration": 0.010509,
     "end_time": "2023-08-02T18:30:16.405507",
     "exception": false,
     "start_time": "2023-08-02T18:30:16.394998",
     "status": "completed"
    },
    "tags": []
   },
   "source": [
    "# 3b.  <span title=\"A bit spicy\" style=\"color: darkgreen \">🌶️</span>\n",
    "\n",
    "<small>Questions, like this one, marked a spicy pepper are a bit harder.</small>\n",
    "\n",
    "Add parentheses to the following expression so that it evaluates to 0."
   ]
  },
  {
   "cell_type": "code",
   "execution_count": 13,
   "id": "14d0c6cb",
   "metadata": {
    "execution": {
     "iopub.execute_input": "2023-08-02T18:30:16.428456Z",
     "iopub.status.busy": "2023-08-02T18:30:16.427744Z",
     "iopub.status.idle": "2023-08-02T18:30:16.434694Z",
     "shell.execute_reply": "2023-08-02T18:30:16.433704Z"
    },
    "papermill": {
     "duration": 0.021148,
     "end_time": "2023-08-02T18:30:16.436928",
     "exception": false,
     "start_time": "2023-08-02T18:30:16.415780",
     "status": "completed"
    },
    "tags": []
   },
   "outputs": [
    {
     "data": {
      "text/plain": [
       "0"
      ]
     },
     "execution_count": 13,
     "metadata": {},
     "output_type": "execute_result"
    }
   ],
   "source": [
    "8 - (3 * 2) - (1 + 1)"
   ]
  },
  {
   "cell_type": "code",
   "execution_count": 14,
   "id": "fdbf2418",
   "metadata": {
    "execution": {
     "iopub.execute_input": "2023-08-02T18:30:16.460314Z",
     "iopub.status.busy": "2023-08-02T18:30:16.459887Z",
     "iopub.status.idle": "2023-08-02T18:30:16.464328Z",
     "shell.execute_reply": "2023-08-02T18:30:16.463511Z"
    },
    "papermill": {
     "duration": 0.019079,
     "end_time": "2023-08-02T18:30:16.466548",
     "exception": false,
     "start_time": "2023-08-02T18:30:16.447469",
     "status": "completed"
    },
    "tags": []
   },
   "outputs": [],
   "source": [
    "#q3.b.hint()"
   ]
  },
  {
   "cell_type": "code",
   "execution_count": 15,
   "id": "1864e269",
   "metadata": {
    "execution": {
     "iopub.execute_input": "2023-08-02T18:30:16.490067Z",
     "iopub.status.busy": "2023-08-02T18:30:16.489385Z",
     "iopub.status.idle": "2023-08-02T18:30:16.498435Z",
     "shell.execute_reply": "2023-08-02T18:30:16.497303Z"
    },
    "papermill": {
     "duration": 0.023509,
     "end_time": "2023-08-02T18:30:16.500673",
     "exception": false,
     "start_time": "2023-08-02T18:30:16.477164",
     "status": "completed"
    },
    "tags": []
   },
   "outputs": [
    {
     "data": {
      "application/javascript": [
       "parent.postMessage({\"jupyterEvent\": \"custom.exercise_interaction\", \"data\": {\"interactionType\": 3, \"questionType\": 4, \"questionId\": \"3.2_ArithmeticParensHard\", \"learnToolsVersion\": \"0.3.4\", \"valueTowardsCompletion\": 0.0, \"failureMessage\": \"\", \"exceptionClass\": \"\", \"trace\": \"\", \"outcomeType\": 4}}, \"*\")"
      ],
      "text/plain": [
       "<IPython.core.display.Javascript object>"
      ]
     },
     "metadata": {},
     "output_type": "display_data"
    },
    {
     "data": {
      "text/markdown": [
       "<span style=\"color:#33cc99\">Solution:</span> `(8 - 3) * (2 - (1 + 1))` is one solution. There may be others."
      ],
      "text/plain": [
       "Solution: `(8 - 3) * (2 - (1 + 1))` is one solution. There may be others."
      ]
     },
     "metadata": {},
     "output_type": "display_data"
    }
   ],
   "source": [
    "# Check your answer (Run this code cell to receive credit!)\n",
    "q3.b.solution()"
   ]
  },
  {
   "cell_type": "markdown",
   "id": "01c97d4e",
   "metadata": {
    "papermill": {
     "duration": 0.010746,
     "end_time": "2023-08-02T18:30:16.522218",
     "exception": false,
     "start_time": "2023-08-02T18:30:16.511472",
     "status": "completed"
    },
    "tags": []
   },
   "source": [
    "<hr/>\n",
    "\n",
    "# 4. \n",
    "Alice, Bob and Carol have agreed to pool their Halloween candy and split it evenly among themselves.\n",
    "For the sake of their friendship, any candies left over will be smashed. For example, if they collectively\n",
    "bring home 91 candies, they'll take 30 each and smash 1.\n",
    "\n",
    "Write an arithmetic expression below to calculate how many candies they must smash for a given haul."
   ]
  },
  {
   "cell_type": "code",
   "execution_count": 16,
   "id": "53ad16d0",
   "metadata": {
    "execution": {
     "iopub.execute_input": "2023-08-02T18:30:16.546618Z",
     "iopub.status.busy": "2023-08-02T18:30:16.545939Z",
     "iopub.status.idle": "2023-08-02T18:30:16.555876Z",
     "shell.execute_reply": "2023-08-02T18:30:16.554920Z"
    },
    "papermill": {
     "duration": 0.024976,
     "end_time": "2023-08-02T18:30:16.558171",
     "exception": false,
     "start_time": "2023-08-02T18:30:16.533195",
     "status": "completed"
    },
    "tags": []
   },
   "outputs": [
    {
     "data": {
      "application/javascript": [
       "parent.postMessage({\"jupyterEvent\": \"custom.exercise_interaction\", \"data\": {\"outcomeType\": 1, \"valueTowardsCompletion\": 0.25, \"interactionType\": 1, \"questionType\": 1, \"questionId\": \"4_CandySplitting\", \"learnToolsVersion\": \"0.3.4\", \"failureMessage\": \"\", \"exceptionClass\": \"\", \"trace\": \"\"}}, \"*\")"
      ],
      "text/plain": [
       "<IPython.core.display.Javascript object>"
      ]
     },
     "metadata": {},
     "output_type": "display_data"
    },
    {
     "data": {
      "text/markdown": [
       "<span style=\"color:#33cc33\">Correct</span>"
      ],
      "text/plain": [
       "Correct"
      ]
     },
     "metadata": {},
     "output_type": "display_data"
    }
   ],
   "source": [
    "# Variables representing the number of candies collected by alice, bob, and carol\n",
    "alice_candies = 121\n",
    "bob_candies = 77\n",
    "carol_candies = 109\n",
    "\n",
    "# Your code goes here! Replace the right-hand side of this assignment with an expression\n",
    "# involving alice_candies, bob_candies, and carol_candies\n",
    "total_candies = alice_candies + bob_candies + carol_candies\n",
    "to_smash = total_candies%3\n",
    "\n",
    "# Check your answer\n",
    "q4.check()"
   ]
  },
  {
   "cell_type": "code",
   "execution_count": 17,
   "id": "a7cef41b",
   "metadata": {
    "execution": {
     "iopub.execute_input": "2023-08-02T18:30:16.582913Z",
     "iopub.status.busy": "2023-08-02T18:30:16.582503Z",
     "iopub.status.idle": "2023-08-02T18:30:16.586808Z",
     "shell.execute_reply": "2023-08-02T18:30:16.585652Z"
    },
    "papermill": {
     "duration": 0.019831,
     "end_time": "2023-08-02T18:30:16.589380",
     "exception": false,
     "start_time": "2023-08-02T18:30:16.569549",
     "status": "completed"
    },
    "tags": []
   },
   "outputs": [],
   "source": [
    "#q4.hint()\n",
    "#q4.solution()"
   ]
  },
  {
   "cell_type": "markdown",
   "id": "e2477691",
   "metadata": {
    "papermill": {
     "duration": 0.01167,
     "end_time": "2023-08-02T18:30:16.612736",
     "exception": false,
     "start_time": "2023-08-02T18:30:16.601066",
     "status": "completed"
    },
    "tags": []
   },
   "source": [
    "# Keep Going\n",
    "\n",
    "Next up, you'll **[learn to write new functions and understand functions others write](https://www.kaggle.com/colinmorris/functions-and-getting-help)**. This will make you at least 10 times more productive as a Python programmer. "
   ]
  },
  {
   "cell_type": "markdown",
   "id": "272f7a64",
   "metadata": {
    "papermill": {
     "duration": 0.011233,
     "end_time": "2023-08-02T18:30:16.635494",
     "exception": false,
     "start_time": "2023-08-02T18:30:16.624261",
     "status": "completed"
    },
    "tags": []
   },
   "source": [
    "---\n",
    "\n",
    "\n",
    "\n",
    "\n",
    "*Have questions or comments? Visit the [course discussion forum](https://www.kaggle.com/learn/python/discussion) to chat with other learners.*"
   ]
  }
 ],
 "metadata": {
  "kernelspec": {
   "display_name": "Python 3",
   "language": "python",
   "name": "python3"
  },
  "language_info": {
   "codemirror_mode": {
    "name": "ipython",
    "version": 3
   },
   "file_extension": ".py",
   "mimetype": "text/x-python",
   "name": "python",
   "nbconvert_exporter": "python",
   "pygments_lexer": "ipython3",
   "version": "3.10.12"
  },
  "papermill": {
   "default_parameters": {},
   "duration": 14.566548,
   "end_time": "2023-08-02T18:30:17.569546",
   "environment_variables": {},
   "exception": null,
   "input_path": "__notebook__.ipynb",
   "output_path": "__notebook__.ipynb",
   "parameters": {},
   "start_time": "2023-08-02T18:30:03.002998",
   "version": "2.4.0"
  }
 },
 "nbformat": 4,
 "nbformat_minor": 5
}
