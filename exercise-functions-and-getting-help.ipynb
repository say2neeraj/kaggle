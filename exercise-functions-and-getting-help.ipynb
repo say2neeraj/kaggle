{
 "cells": [
  {
   "cell_type": "markdown",
   "id": "9a38e107",
   "metadata": {
    "papermill": {
     "duration": 0.004626,
     "end_time": "2023-08-06T16:50:06.045075",
     "exception": false,
     "start_time": "2023-08-06T16:50:06.040449",
     "status": "completed"
    },
    "tags": []
   },
   "source": [
    "**This notebook is an exercise in the [Python](https://www.kaggle.com/learn/python) course.  You can reference the tutorial at [this link](https://www.kaggle.com/colinmorris/functions-and-getting-help).**\n",
    "\n",
    "---\n"
   ]
  },
  {
   "cell_type": "markdown",
   "id": "e0475a8b",
   "metadata": {
    "papermill": {
     "duration": 0.00372,
     "end_time": "2023-08-06T16:50:06.052936",
     "exception": false,
     "start_time": "2023-08-06T16:50:06.049216",
     "status": "completed"
    },
    "tags": []
   },
   "source": [
    "Functions are powerful. Try writing some yourself.\n",
    "\n",
    "As before, don't forget to run the setup code below before jumping into question 1."
   ]
  },
  {
   "cell_type": "code",
   "execution_count": 1,
   "id": "61607b1c",
   "metadata": {
    "_kg_hide-input": true,
    "_kg_hide-output": true,
    "execution": {
     "iopub.execute_input": "2023-08-06T16:50:06.062346Z",
     "iopub.status.busy": "2023-08-06T16:50:06.062015Z",
     "iopub.status.idle": "2023-08-06T16:50:06.104795Z",
     "shell.execute_reply": "2023-08-06T16:50:06.103669Z"
    },
    "papermill": {
     "duration": 0.049869,
     "end_time": "2023-08-06T16:50:06.106769",
     "exception": false,
     "start_time": "2023-08-06T16:50:06.056900",
     "status": "completed"
    },
    "tags": []
   },
   "outputs": [
    {
     "name": "stdout",
     "output_type": "stream",
     "text": [
      "Setup complete.\n"
     ]
    }
   ],
   "source": [
    "# SETUP. You don't need to worry for now about what this code does or how it works.\n",
    "from learntools.core import binder; binder.bind(globals())\n",
    "from learntools.python.ex2 import *\n",
    "print('Setup complete.')"
   ]
  },
  {
   "cell_type": "markdown",
   "id": "3d0cd9de",
   "metadata": {
    "papermill": {
     "duration": 0.004058,
     "end_time": "2023-08-06T16:50:06.115138",
     "exception": false,
     "start_time": "2023-08-06T16:50:06.111080",
     "status": "completed"
    },
    "tags": []
   },
   "source": [
    "# 1.\n",
    "\n",
    "Complete the body of the following function according to its docstring.\n",
    "\n",
    "HINT: Python has a built-in function `round`."
   ]
  },
  {
   "cell_type": "code",
   "execution_count": 2,
   "id": "238fad44",
   "metadata": {
    "execution": {
     "iopub.execute_input": "2023-08-06T16:50:06.124658Z",
     "iopub.status.busy": "2023-08-06T16:50:06.124385Z",
     "iopub.status.idle": "2023-08-06T16:50:06.133125Z",
     "shell.execute_reply": "2023-08-06T16:50:06.132200Z"
    },
    "papermill": {
     "duration": 0.015605,
     "end_time": "2023-08-06T16:50:06.134788",
     "exception": false,
     "start_time": "2023-08-06T16:50:06.119183",
     "status": "completed"
    },
    "tags": []
   },
   "outputs": [
    {
     "data": {
      "application/javascript": [
       "parent.postMessage({\"jupyterEvent\": \"custom.exercise_interaction\", \"data\": {\"outcomeType\": 1, \"valueTowardsCompletion\": 0.16666666666666666, \"interactionType\": 1, \"questionType\": 2, \"questionId\": \"1_RoundFunctionProblem\", \"learnToolsVersion\": \"0.3.4\", \"failureMessage\": \"\", \"exceptionClass\": \"\", \"trace\": \"\"}}, \"*\")"
      ],
      "text/plain": [
       "<IPython.core.display.Javascript object>"
      ]
     },
     "metadata": {},
     "output_type": "display_data"
    },
    {
     "data": {
      "text/markdown": [
       "<span style=\"color:#33cc33\">Correct</span>"
      ],
      "text/plain": [
       "Correct"
      ]
     },
     "metadata": {},
     "output_type": "display_data"
    }
   ],
   "source": [
    "def round_to_two_places(num):\n",
    "    \"\"\"Return the given number rounded to two decimal places. \n",
    "    \n",
    "    >>> round_to_two_places(3.14159)\n",
    "    3.14\n",
    "    \"\"\"\n",
    "    # Replace this body with your own code.\n",
    "    # (\"pass\" is a keyword that does literally nothing. We used it as a placeholder\n",
    "    # because after we begin a code block, Python requires at least one line of code)\n",
    "    pass\n",
    "\n",
    "    return round(num,2)\n",
    "\n",
    "# Check your answer\n",
    "q1.check()"
   ]
  },
  {
   "cell_type": "code",
   "execution_count": 3,
   "id": "fe932dae",
   "metadata": {
    "execution": {
     "iopub.execute_input": "2023-08-06T16:50:06.145210Z",
     "iopub.status.busy": "2023-08-06T16:50:06.144856Z",
     "iopub.status.idle": "2023-08-06T16:50:06.152637Z",
     "shell.execute_reply": "2023-08-06T16:50:06.151776Z"
    },
    "papermill": {
     "duration": 0.014907,
     "end_time": "2023-08-06T16:50:06.154257",
     "exception": false,
     "start_time": "2023-08-06T16:50:06.139350",
     "status": "completed"
    },
    "tags": []
   },
   "outputs": [
    {
     "data": {
      "application/javascript": [
       "parent.postMessage({\"jupyterEvent\": \"custom.exercise_interaction\", \"data\": {\"outcomeType\": 1, \"valueTowardsCompletion\": 0.16666666666666666, \"interactionType\": 1, \"questionType\": 2, \"questionId\": \"1_RoundFunctionProblem\", \"learnToolsVersion\": \"0.3.4\", \"failureMessage\": \"\", \"exceptionClass\": \"\", \"trace\": \"\"}}, \"*\")"
      ],
      "text/plain": [
       "<IPython.core.display.Javascript object>"
      ]
     },
     "metadata": {},
     "output_type": "display_data"
    },
    {
     "data": {
      "text/markdown": [
       "<span style=\"color:#33cc33\">Correct</span>"
      ],
      "text/plain": [
       "Correct"
      ]
     },
     "metadata": {},
     "output_type": "display_data"
    }
   ],
   "source": [
    "q1.check()"
   ]
  },
  {
   "cell_type": "code",
   "execution_count": null,
   "id": "1d28ea50",
   "metadata": {
    "papermill": {
     "duration": 0.004631,
     "end_time": "2023-08-06T16:50:06.163709",
     "exception": false,
     "start_time": "2023-08-06T16:50:06.159078",
     "status": "completed"
    },
    "tags": []
   },
   "outputs": [],
   "source": []
  },
  {
   "cell_type": "code",
   "execution_count": 4,
   "id": "619a5a87",
   "metadata": {
    "execution": {
     "iopub.execute_input": "2023-08-06T16:50:06.174514Z",
     "iopub.status.busy": "2023-08-06T16:50:06.174154Z",
     "iopub.status.idle": "2023-08-06T16:50:06.187118Z",
     "shell.execute_reply": "2023-08-06T16:50:06.185966Z"
    },
    "papermill": {
     "duration": 0.020566,
     "end_time": "2023-08-06T16:50:06.188980",
     "exception": false,
     "start_time": "2023-08-06T16:50:06.168414",
     "status": "completed"
    },
    "tags": []
   },
   "outputs": [
    {
     "data": {
      "application/javascript": [
       "parent.postMessage({\"jupyterEvent\": \"custom.exercise_interaction\", \"data\": {\"interactionType\": 2, \"questionType\": 2, \"questionId\": \"1_RoundFunctionProblem\", \"learnToolsVersion\": \"0.3.4\", \"valueTowardsCompletion\": 0.0, \"failureMessage\": \"\", \"exceptionClass\": \"\", \"trace\": \"\", \"outcomeType\": 4}}, \"*\")"
      ],
      "text/plain": [
       "<IPython.core.display.Javascript object>"
      ]
     },
     "metadata": {},
     "output_type": "display_data"
    },
    {
     "data": {
      "text/markdown": [
       "<span style=\"color:#3366cc\">Hint:</span> Run `help(round)` in the console (or in a code cell) to learn more about the round function. You'll need to use the function's optional second argument."
      ],
      "text/plain": [
       "Hint: Run `help(round)` in the console (or in a code cell) to learn more about the round function. You'll need to use the function's optional second argument."
      ]
     },
     "metadata": {},
     "output_type": "display_data"
    },
    {
     "data": {
      "application/javascript": [
       "parent.postMessage({\"jupyterEvent\": \"custom.exercise_interaction\", \"data\": {\"interactionType\": 3, \"questionType\": 2, \"questionId\": \"1_RoundFunctionProblem\", \"learnToolsVersion\": \"0.3.4\", \"valueTowardsCompletion\": 0.0, \"failureMessage\": \"\", \"exceptionClass\": \"\", \"trace\": \"\", \"outcomeType\": 4}}, \"*\")"
      ],
      "text/plain": [
       "<IPython.core.display.Javascript object>"
      ]
     },
     "metadata": {},
     "output_type": "display_data"
    },
    {
     "data": {
      "text/markdown": [
       "<span style=\"color:#33cc99\">Solution:</span> \n",
       "```python\n",
       "return round(num, 2)\n",
       "```"
      ],
      "text/plain": [
       "Solution: \n",
       "```python\n",
       "return round(num, 2)\n",
       "```"
      ]
     },
     "metadata": {},
     "output_type": "display_data"
    }
   ],
   "source": [
    "# Uncomment the following for a hint\n",
    "q1.hint()\n",
    "# Or uncomment the following to peek at the solution\n",
    "q1.solution()"
   ]
  },
  {
   "cell_type": "markdown",
   "id": "269e7f8a",
   "metadata": {
    "papermill": {
     "duration": 0.004835,
     "end_time": "2023-08-06T16:50:06.200461",
     "exception": false,
     "start_time": "2023-08-06T16:50:06.195626",
     "status": "completed"
    },
    "tags": []
   },
   "source": [
    "# 2.\n",
    "The help for `round` says that `ndigits` (the second argument) may be negative.\n",
    "What do you think will happen when it is? Try some examples in the following cell."
   ]
  },
  {
   "cell_type": "code",
   "execution_count": 5,
   "id": "ab6a68d3",
   "metadata": {
    "execution": {
     "iopub.execute_input": "2023-08-06T16:50:06.212097Z",
     "iopub.status.busy": "2023-08-06T16:50:06.211762Z",
     "iopub.status.idle": "2023-08-06T16:50:06.216013Z",
     "shell.execute_reply": "2023-08-06T16:50:06.215437Z"
    },
    "papermill": {
     "duration": 0.012382,
     "end_time": "2023-08-06T16:50:06.217848",
     "exception": false,
     "start_time": "2023-08-06T16:50:06.205466",
     "status": "completed"
    },
    "tags": []
   },
   "outputs": [
    {
     "name": "stdout",
     "output_type": "stream",
     "text": [
      "Help on built-in function round in module builtins:\n",
      "\n",
      "round(number, ndigits=None)\n",
      "    Round a number to a given precision in decimal digits.\n",
      "    \n",
      "    The return value is an integer if ndigits is omitted or None.  Otherwise\n",
      "    the return value has the same type as the number.  ndigits may be negative.\n",
      "\n"
     ]
    }
   ],
   "source": [
    "# Put your test code here\n",
    "help(round)"
   ]
  },
  {
   "cell_type": "markdown",
   "id": "f5c2783a",
   "metadata": {
    "papermill": {
     "duration": 0.005536,
     "end_time": "2023-08-06T16:50:06.228579",
     "exception": false,
     "start_time": "2023-08-06T16:50:06.223043",
     "status": "completed"
    },
    "tags": []
   },
   "source": [
    "Can you think of a case where this would be useful?  Once you're ready, run the code cell below to see the answer and to receive credit for completing the problem."
   ]
  },
  {
   "cell_type": "code",
   "execution_count": 6,
   "id": "7716a7af",
   "metadata": {
    "execution": {
     "iopub.execute_input": "2023-08-06T16:50:06.241426Z",
     "iopub.status.busy": "2023-08-06T16:50:06.241075Z",
     "iopub.status.idle": "2023-08-06T16:50:06.247805Z",
     "shell.execute_reply": "2023-08-06T16:50:06.246992Z"
    },
    "papermill": {
     "duration": 0.01479,
     "end_time": "2023-08-06T16:50:06.249412",
     "exception": false,
     "start_time": "2023-08-06T16:50:06.234622",
     "status": "completed"
    },
    "tags": []
   },
   "outputs": [
    {
     "data": {
      "application/javascript": [
       "parent.postMessage({\"jupyterEvent\": \"custom.exercise_interaction\", \"data\": {\"interactionType\": 3, \"questionType\": 4, \"questionId\": \"2_RoundNdigitsProblem\", \"learnToolsVersion\": \"0.3.4\", \"valueTowardsCompletion\": 0.0, \"failureMessage\": \"\", \"exceptionClass\": \"\", \"trace\": \"\", \"outcomeType\": 4}}, \"*\")"
      ],
      "text/plain": [
       "<IPython.core.display.Javascript object>"
      ]
     },
     "metadata": {},
     "output_type": "display_data"
    },
    {
     "data": {
      "text/markdown": [
       "<span style=\"color:#33cc99\">Solution:</span> As you've seen, `ndigits=-1` rounds to the nearest 10, `ndigits=-2` rounds to the nearest 100 and so on. Where might this be useful? Suppose we're dealing with large numbers:\n",
       "\n",
       "> The area of Finland is 338,424 km²  \n",
       "> The area of Greenland is 2,166,086 km²\n",
       "\n",
       "We probably don't care whether it's really 338,424, or 338,425, or 338,177. All those digits of accuracy are just distracting. We can chop them off by calling `round()` with `ndigits=-3`:\n",
       "\n",
       "> The area of Finland is 338,000 km²  \n",
       "> The area of Greenland is 2,166,000 km²\n",
       "\n",
       "(We'll talk about how we would get the commas later when we talk about string formatting :))\n"
      ],
      "text/plain": [
       "Solution: As you've seen, `ndigits=-1` rounds to the nearest 10, `ndigits=-2` rounds to the nearest 100 and so on. Where might this be useful? Suppose we're dealing with large numbers:\n",
       "\n",
       "> The area of Finland is 338,424 km²  \n",
       "> The area of Greenland is 2,166,086 km²\n",
       "\n",
       "We probably don't care whether it's really 338,424, or 338,425, or 338,177. All those digits of accuracy are just distracting. We can chop them off by calling `round()` with `ndigits=-3`:\n",
       "\n",
       "> The area of Finland is 338,000 km²  \n",
       "> The area of Greenland is 2,166,000 km²\n",
       "\n",
       "(We'll talk about how we would get the commas later when we talk about string formatting :))"
      ]
     },
     "metadata": {},
     "output_type": "display_data"
    }
   ],
   "source": [
    "# Check your answer (Run this code cell to receive credit!)\n",
    "q2.solution()"
   ]
  },
  {
   "cell_type": "markdown",
   "id": "81ee5dbf",
   "metadata": {
    "papermill": {
     "duration": 0.005188,
     "end_time": "2023-08-06T16:50:06.260262",
     "exception": false,
     "start_time": "2023-08-06T16:50:06.255074",
     "status": "completed"
    },
    "tags": []
   },
   "source": [
    "# 3.\n",
    "\n",
    "In the previous exercise, the candy-sharing friends Alice, Bob and Carol tried to split candies evenly. For the sake of their friendship, any candies left over would be smashed. For example, if they collectively bring home 91 candies, they'll take 30 each and smash 1.\n",
    "\n",
    "Below is a simple function that will calculate the number of candies to smash for *any* number of total candies.\n",
    "\n",
    "Modify it so that it optionally takes a second argument representing the number of friends the candies are being split between. If no second argument is provided, it should assume 3 friends, as before.\n",
    "\n",
    "Update the docstring to reflect this new behaviour."
   ]
  },
  {
   "cell_type": "code",
   "execution_count": 7,
   "id": "1ad7d63b",
   "metadata": {
    "execution": {
     "iopub.execute_input": "2023-08-06T16:50:06.272768Z",
     "iopub.status.busy": "2023-08-06T16:50:06.272456Z",
     "iopub.status.idle": "2023-08-06T16:50:06.279409Z",
     "shell.execute_reply": "2023-08-06T16:50:06.278766Z"
    },
    "papermill": {
     "duration": 0.01534,
     "end_time": "2023-08-06T16:50:06.280929",
     "exception": false,
     "start_time": "2023-08-06T16:50:06.265589",
     "status": "completed"
    },
    "tags": []
   },
   "outputs": [
    {
     "data": {
      "application/javascript": [
       "parent.postMessage({\"jupyterEvent\": \"custom.exercise_interaction\", \"data\": {\"outcomeType\": 1, \"valueTowardsCompletion\": 0.16666666666666666, \"interactionType\": 1, \"questionType\": 2, \"questionId\": \"3_CandySmashingFunctionProblem\", \"learnToolsVersion\": \"0.3.4\", \"failureMessage\": \"\", \"exceptionClass\": \"\", \"trace\": \"\"}}, \"*\")"
      ],
      "text/plain": [
       "<IPython.core.display.Javascript object>"
      ]
     },
     "metadata": {},
     "output_type": "display_data"
    },
    {
     "data": {
      "text/markdown": [
       "<span style=\"color:#33cc33\">Correct</span>"
      ],
      "text/plain": [
       "Correct"
      ]
     },
     "metadata": {},
     "output_type": "display_data"
    }
   ],
   "source": [
    "def to_smash(total_candies,n_friends=3):\n",
    "    \"\"\"Return the number of leftover candies that must be smashed after distributing\n",
    "    the given number of candies evenly between 3 friends.\n",
    "    \n",
    "    >>> to_smash(91)\n",
    "    1\n",
    "    \"\"\"\n",
    "    return total_candies % n_friends\n",
    "\n",
    "# Check your answer\n",
    "q3.check()"
   ]
  },
  {
   "cell_type": "code",
   "execution_count": 8,
   "id": "9859294c",
   "metadata": {
    "execution": {
     "iopub.execute_input": "2023-08-06T16:50:06.294268Z",
     "iopub.status.busy": "2023-08-06T16:50:06.293694Z",
     "iopub.status.idle": "2023-08-06T16:50:06.301836Z",
     "shell.execute_reply": "2023-08-06T16:50:06.300796Z"
    },
    "papermill": {
     "duration": 0.017381,
     "end_time": "2023-08-06T16:50:06.304148",
     "exception": false,
     "start_time": "2023-08-06T16:50:06.286767",
     "status": "completed"
    },
    "tags": []
   },
   "outputs": [
    {
     "data": {
      "application/javascript": [
       "parent.postMessage({\"jupyterEvent\": \"custom.exercise_interaction\", \"data\": {\"interactionType\": 2, \"questionType\": 2, \"questionId\": \"3_CandySmashingFunctionProblem\", \"learnToolsVersion\": \"0.3.4\", \"valueTowardsCompletion\": 0.0, \"failureMessage\": \"\", \"exceptionClass\": \"\", \"trace\": \"\", \"outcomeType\": 4}}, \"*\")"
      ],
      "text/plain": [
       "<IPython.core.display.Javascript object>"
      ]
     },
     "metadata": {},
     "output_type": "display_data"
    },
    {
     "data": {
      "text/markdown": [
       "<span style=\"color:#3366cc\">Hint:</span> Refer to the section of the last tutorial notebook where we talked about default arguments"
      ],
      "text/plain": [
       "Hint: Refer to the section of the last tutorial notebook where we talked about default arguments"
      ]
     },
     "metadata": {},
     "output_type": "display_data"
    }
   ],
   "source": [
    "q3.hint()"
   ]
  },
  {
   "cell_type": "code",
   "execution_count": 9,
   "id": "88f5f841",
   "metadata": {
    "execution": {
     "iopub.execute_input": "2023-08-06T16:50:06.317910Z",
     "iopub.status.busy": "2023-08-06T16:50:06.317560Z",
     "iopub.status.idle": "2023-08-06T16:50:06.324700Z",
     "shell.execute_reply": "2023-08-06T16:50:06.323896Z"
    },
    "papermill": {
     "duration": 0.016022,
     "end_time": "2023-08-06T16:50:06.326459",
     "exception": false,
     "start_time": "2023-08-06T16:50:06.310437",
     "status": "completed"
    },
    "tags": []
   },
   "outputs": [
    {
     "data": {
      "application/javascript": [
       "parent.postMessage({\"jupyterEvent\": \"custom.exercise_interaction\", \"data\": {\"interactionType\": 3, \"questionType\": 2, \"questionId\": \"3_CandySmashingFunctionProblem\", \"learnToolsVersion\": \"0.3.4\", \"valueTowardsCompletion\": 0.0, \"failureMessage\": \"\", \"exceptionClass\": \"\", \"trace\": \"\", \"outcomeType\": 4}}, \"*\")"
      ],
      "text/plain": [
       "<IPython.core.display.Javascript object>"
      ]
     },
     "metadata": {},
     "output_type": "display_data"
    },
    {
     "data": {
      "text/markdown": [
       "<span style=\"color:#33cc99\">Solution:</span> \n",
       "```python\n",
       "def to_smash(total_candies, n_friends=3):\n",
       "    return total_candies % n_friends\n",
       "```"
      ],
      "text/plain": [
       "Solution: \n",
       "```python\n",
       "def to_smash(total_candies, n_friends=3):\n",
       "    return total_candies % n_friends\n",
       "```"
      ]
     },
     "metadata": {},
     "output_type": "display_data"
    }
   ],
   "source": [
    "q3.solution()"
   ]
  },
  {
   "cell_type": "markdown",
   "id": "475ef170",
   "metadata": {
    "papermill": {
     "duration": 0.006155,
     "end_time": "2023-08-06T16:50:06.338828",
     "exception": false,
     "start_time": "2023-08-06T16:50:06.332673",
     "status": "completed"
    },
    "tags": []
   },
   "source": [
    "# 4. (Optional)\n",
    "\n",
    "It may not be fun, but reading and understanding error messages will be an important part of your Python career.\n",
    "\n",
    "Each code cell below contains some commented buggy code. For each cell...\n",
    "\n",
    "1. Read the code and predict what you think will happen when it's run.\n",
    "2. Then uncomment the code and run it to see what happens. (**Tip**: In the kernel editor, you can highlight several lines and press `ctrl`+`/` to toggle commenting.)\n",
    "3. Fix the code (so that it accomplishes its intended purpose without throwing an exception)\n",
    "\n",
    "<!-- TODO: should this be autochecked? Delta is probably pretty small. -->"
   ]
  },
  {
   "cell_type": "code",
   "execution_count": 10,
   "id": "fcc8fc57",
   "metadata": {
    "execution": {
     "iopub.execute_input": "2023-08-06T16:50:06.352389Z",
     "iopub.status.busy": "2023-08-06T16:50:06.352035Z",
     "iopub.status.idle": "2023-08-06T16:50:06.356943Z",
     "shell.execute_reply": "2023-08-06T16:50:06.356168Z"
    },
    "papermill": {
     "duration": 0.014565,
     "end_time": "2023-08-06T16:50:06.359207",
     "exception": false,
     "start_time": "2023-08-06T16:50:06.344642",
     "status": "completed"
    },
    "tags": []
   },
   "outputs": [
    {
     "data": {
      "text/plain": [
       "10.0"
      ]
     },
     "execution_count": 10,
     "metadata": {},
     "output_type": "execute_result"
    }
   ],
   "source": [
    "round_to_two_places(9.9999)"
   ]
  },
  {
   "cell_type": "code",
   "execution_count": 11,
   "id": "c1209d11",
   "metadata": {
    "execution": {
     "iopub.execute_input": "2023-08-06T16:50:06.373254Z",
     "iopub.status.busy": "2023-08-06T16:50:06.372799Z",
     "iopub.status.idle": "2023-08-06T16:50:06.376138Z",
     "shell.execute_reply": "2023-08-06T16:50:06.375583Z"
    },
    "papermill": {
     "duration": 0.012342,
     "end_time": "2023-08-06T16:50:06.378087",
     "exception": false,
     "start_time": "2023-08-06T16:50:06.365745",
     "status": "completed"
    },
    "tags": []
   },
   "outputs": [],
   "source": [
    "x = -10\n",
    "y = 5\n",
    "# Which of the two variables above has the smallest absolute value?\n",
    "x=abs(x)\n",
    "smallest_abs = min(x,y)\n"
   ]
  },
  {
   "cell_type": "code",
   "execution_count": 12,
   "id": "e89f71e7",
   "metadata": {
    "execution": {
     "iopub.execute_input": "2023-08-06T16:50:06.392187Z",
     "iopub.status.busy": "2023-08-06T16:50:06.391581Z",
     "iopub.status.idle": "2023-08-06T16:50:06.396338Z",
     "shell.execute_reply": "2023-08-06T16:50:06.395462Z"
    },
    "papermill": {
     "duration": 0.013603,
     "end_time": "2023-08-06T16:50:06.397814",
     "exception": false,
     "start_time": "2023-08-06T16:50:06.384211",
     "status": "completed"
    },
    "tags": []
   },
   "outputs": [
    {
     "name": "stdout",
     "output_type": "stream",
     "text": [
      "5\n"
     ]
    }
   ],
   "source": [
    " def f(x):\n",
    "     y = abs(x)\n",
    "     return y\n",
    "\n",
    " print(f(5))"
   ]
  },
  {
   "cell_type": "markdown",
   "id": "e9d55aa1",
   "metadata": {
    "papermill": {
     "duration": 0.00573,
     "end_time": "2023-08-06T16:50:06.409544",
     "exception": false,
     "start_time": "2023-08-06T16:50:06.403814",
     "status": "completed"
    },
    "tags": []
   },
   "source": [
    "# Keep Going\n",
    "\n",
    "Nice job with the code. Next up, you'll learn about *conditionals*, which you'll need to **[write interesting programs](https://www.kaggle.com/colinmorris/booleans-and-conditionals)**. "
   ]
  },
  {
   "cell_type": "markdown",
   "id": "1adfdcb6",
   "metadata": {
    "papermill": {
     "duration": 0.006816,
     "end_time": "2023-08-06T16:50:06.422294",
     "exception": false,
     "start_time": "2023-08-06T16:50:06.415478",
     "status": "completed"
    },
    "tags": []
   },
   "source": [
    "---\n",
    "\n",
    "\n",
    "\n",
    "\n",
    "*Have questions or comments? Visit the [course discussion forum](https://www.kaggle.com/learn/python/discussion) to chat with other learners.*"
   ]
  }
 ],
 "metadata": {
  "kernelspec": {
   "display_name": "Python 3",
   "language": "python",
   "name": "python3"
  },
  "language_info": {
   "codemirror_mode": {
    "name": "ipython",
    "version": 3
   },
   "file_extension": ".py",
   "mimetype": "text/x-python",
   "name": "python",
   "nbconvert_exporter": "python",
   "pygments_lexer": "ipython3",
   "version": "3.10.12"
  },
  "papermill": {
   "default_parameters": {},
   "duration": 8.788302,
   "end_time": "2023-08-06T16:50:07.049690",
   "environment_variables": {},
   "exception": null,
   "input_path": "__notebook__.ipynb",
   "output_path": "__notebook__.ipynb",
   "parameters": {},
   "start_time": "2023-08-06T16:49:58.261388",
   "version": "2.4.0"
  }
 },
 "nbformat": 4,
 "nbformat_minor": 5
}
